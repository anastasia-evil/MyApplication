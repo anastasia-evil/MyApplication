{
  "cells": [
    {
      "cell_type": "markdown",
      "metadata": {
        "id": "view-in-github",
        "colab_type": "text"
      },
      "source": [
        "<a href=\"https://colab.research.google.com/github/anastasia-evil/TFGCodigo/blob/master/avgpool.ipynb\" target=\"_parent\"><img src=\"https://colab.research.google.com/assets/colab-badge.svg\" alt=\"Open In Colab\"/></a>"
      ]
    },
    {
      "cell_type": "code",
      "execution_count": null,
      "metadata": {
        "id": "_mVdPRe2ivMI"
      },
      "outputs": [],
      "source": [
        "import torch\n",
        "import torchvision\n",
        "import torchvision.transforms as transforms\n",
        "import numpy as np\n",
        "import xlrd\n",
        "from torch.utils.data import TensorDataset\n",
        "import pandas as pd\n",
        "from sklearn.preprocessing import StandardScaler\n",
        "from torch.utils.data import random_split, DataLoader\n",
        "from sklearn.model_selection import train_test_split\n",
        "import torch.nn as nn\n",
        "import torch.nn.functional as F\n",
        "from torch.utils.data import Dataset\n",
        "from shutil import copyfile\n",
        "from google.colab import drive\n",
        "import os, sys\n",
        "import glob\n",
        "import random\n",
        "import numpy.random as npr\n",
        "import torch\n",
        "import torch.nn as nn\n",
        "import torch.nn.functional as F"
      ]
    },
    {
      "cell_type": "code",
      "execution_count": null,
      "metadata": {
        "colab": {
          "base_uri": "https://localhost:8080/"
        },
        "id": "Ybw-0C3_iwYZ",
        "outputId": "f95944e4-7379-4f00-e63f-d220bd7c9046"
      },
      "outputs": [
        {
          "output_type": "stream",
          "name": "stdout",
          "text": [
            "Mounted at /content/drive/\n"
          ]
        }
      ],
      "source": [
        "drive.mount('/content/drive/')\n",
        "path = '/content/drive/My Drive/TFG'\n",
        "xlsx_files = glob.glob(os.path.join(path, '*.xlsx'))"
      ]
    },
    {
      "cell_type": "code",
      "execution_count": null,
      "metadata": {
        "id": "Sya3Gvx2iybi"
      },
      "outputs": [],
      "source": [
        "def estandarizar_columnas(df, scaler=None):\n",
        "    columnas_excluidas = ['Label']\n",
        "    columnas_estandarizar = [col for col in df.columns if col not in columnas_excluidas]\n",
        "    if scaler is None:\n",
        "        scaler = StandardScaler()\n",
        "        df.loc[:, columnas_estandarizar] = scaler.fit_transform(df[columnas_estandarizar])\n",
        "    else:\n",
        "        df.loc[:, columnas_estandarizar] = scaler.transform(df[columnas_estandarizar])\n",
        "    return df, scaler\n",
        "\n",
        "def sliding_window_np(df, window_size, step):\n",
        "    num_windows = (df.shape[0] - window_size) // step + 1\n",
        "    if num_windows <= 0:\n",
        "        return []\n",
        "\n",
        "    windows = []\n",
        "    for i in range(num_windows):\n",
        "        start = i * step\n",
        "        end = start + window_size\n",
        "        window = df.iloc[start:end, :].copy()  # Asegurarse de que la ventana tenga exactamente 'window_size' filas\n",
        "        if window['Label'].nunique() == 1:\n",
        "            windows.append(window)\n",
        "    return windows\n",
        "\n",
        "def one_hot_encode(labels, num_classes):\n",
        "    one_hot_labels = np.zeros((len(labels), num_classes))\n",
        "    for i, label in enumerate(labels):\n",
        "        one_hot_labels[i, label - 1] = 1\n",
        "    return one_hot_labels\n",
        "\n",
        "def windows_to_tensors(windows, num_classes):\n",
        "    tensors = []\n",
        "    for window in windows:\n",
        "        features = window.iloc[:, :-1].values\n",
        "        label = window.iloc[0, -1] - 1  # Restar 1 para que sea índice 0-based\n",
        "        features_tensor = torch.tensor(features, dtype=torch.float32)\n",
        "        labels_tensor = torch.tensor(one_hot_encode([label], num_classes), dtype=torch.float32).squeeze()\n",
        "        tensors.append((features_tensor, labels_tensor))\n",
        "    return tensors"
      ]
    },
    {
      "cell_type": "code",
      "execution_count": null,
      "metadata": {
        "id": "2r8N9b1hjhyS"
      },
      "outputs": [],
      "source": [
        "def process_excel(df):\n",
        "    # Verificar si el DataFrame tiene las columnas necesarias\n",
        "    required_columns = [\"Index\", \"Time\", \"Respiration\", \"Accelerometer\", \"EDA\", \"Label\"]\n",
        "    missing_columns = [col for col in required_columns if col not in df.columns]\n",
        "    if missing_columns:\n",
        "        raise ValueError(f\"El DataFrame no tiene las columnas necesarias: {missing_columns}\")\n",
        "\n",
        "    # Eliminar las columnas no deseadas\n",
        "    columnas_a_eliminar = [\"Index\", \"Time\", \"Respiration\", \"Accelerometer\", \"EDA\"]\n",
        "    df = df.drop(columns=columnas_a_eliminar).copy()\n",
        "\n",
        "    # Duplicar la primera columna y la antepenúltima columna\n",
        "    df.insert(len(df.columns) - 1, 'Neck_EMG_2', df.iloc[:, 0].copy())\n",
        "    df.insert(0, 'ECG_2', df.iloc[:, -3].copy())\n",
        "\n",
        "    # Ajustar etiquetas\n",
        "    ultimo_valor_no_cero = 0\n",
        "    for indice, fila in df[::-1].iterrows():\n",
        "        if fila['Label'] != 0:\n",
        "            ultimo_valor_no_cero = fila['Label']\n",
        "        else:\n",
        "            df.loc[indice, 'Label'] = ultimo_valor_no_cero\n",
        "\n",
        "    # Eliminar filas después del último valor no cero en 'Label'\n",
        "    ultimo_valor_no_cero = df.loc[df['Label'] != 0, 'Label'].iloc[-1]\n",
        "    indice_ultimo_no_cero = df.loc[df['Label'] == ultimo_valor_no_cero].index[-1]\n",
        "    df = df.iloc[:indice_ultimo_no_cero + 1].copy()\n",
        "\n",
        "    # Estandarizar columnas\n",
        "    df, _ = estandarizar_columnas(df)\n",
        "\n",
        "    # Crear ventanas\n",
        "    win_size = 300\n",
        "    stp = 150\n",
        "    ventanas = sliding_window_np(df, win_size, stp)\n",
        "\n",
        "    return ventanas\n"
      ]
    },
    {
      "cell_type": "code",
      "execution_count": null,
      "metadata": {
        "colab": {
          "base_uri": "https://localhost:8080/"
        },
        "id": "NY09HAY9jrWz",
        "outputId": "6c19b41e-5984-487b-bef8-8587d127ae84"
      },
      "outputs": [
        {
          "output_type": "stream",
          "name": "stdout",
          "text": [
            "EL numero de ventanas es:  12071\n",
            "El numero de filas y columnas de cada ventana es:  torch.Size([300, 5])\n"
          ]
        }
      ],
      "source": [
        "all_windows = []\n",
        "num_classes = 7\n",
        "scaler = None\n",
        "\n",
        "for file in xlsx_files:\n",
        "    df = pd.read_excel(file)\n",
        "    try:\n",
        "        ventanas = process_excel(df)\n",
        "        tensor_data = windows_to_tensors(ventanas, num_classes)\n",
        "        all_windows.extend(tensor_data)\n",
        "    except ValueError as e:\n",
        "        print(f\"Error al procesar {file}: {e}\")\n",
        "\n",
        "print(\"EL numero de ventanas es: \", len(all_windows))\n",
        "if all_windows:\n",
        "    print(\"El numero de filas y columnas de cada ventana es: \", all_windows[0][0].shape)\n"
      ]
    },
    {
      "cell_type": "code",
      "execution_count": null,
      "metadata": {
        "id": "FOPHnw7yfII-"
      },
      "outputs": [],
      "source": [
        "class CustomDataLoader_4D(DataLoader):\n",
        "    def __init__(self, dataset, batch_size, shuffle, add_channel_dim=True):\n",
        "        super().__init__(dataset, batch_size, shuffle)\n",
        "        self.add_channel_dim = add_channel_dim\n",
        "\n",
        "    def __iter__(self):\n",
        "        for batch in super().__iter__():\n",
        "            if self.add_channel_dim:\n",
        "                batch = self.add_channel_dimension(batch)\n",
        "            yield batch\n",
        "\n",
        "    def add_channel_dimension(self, batch):\n",
        "        data, labels = batch\n",
        "        data = data.unsqueeze(1)  # Agregar una dimensión de canal\n",
        "        return data, labels\n",
        "\n",
        "\n",
        "class CustomDataset(Dataset):\n",
        "    def __init__(self, data, transform=None):\n",
        "        self.data = data\n",
        "        self.transform = transform\n",
        "\n",
        "    def __len__(self):\n",
        "        return len(self.data)\n",
        "\n",
        "    def __getitem__(self, idx):\n",
        "        x, y = self.data[idx]\n",
        "        if self.transform:\n",
        "            x = self.transform(x)\n",
        "        return x, y"
      ]
    },
    {
      "cell_type": "code",
      "execution_count": null,
      "metadata": {
        "colab": {
          "base_uri": "https://localhost:8080/"
        },
        "id": "h3BoMSkofI3W",
        "outputId": "8f4b4bfb-73a0-4540-c11c-fba659251dd3"
      },
      "outputs": [
        {
          "output_type": "stream",
          "name": "stdout",
          "text": [
            "36\n",
            "Dimensiones del lote de datos: torch.Size([64, 1, 300, 5])\n",
            "Dimensiones del lote de etiquetas: torch.Size([64, 7])\n"
          ]
        }
      ],
      "source": [
        "# Transformación de ruido gaussiano\n",
        "import torch\n",
        "from torch.utils.data import DataLoader, Dataset, random_split, Subset\n",
        "from sklearn.model_selection import KFold\n",
        "class GaussianNoiseTransform:\n",
        "    def __init__(self, mean=0.0, std=0.1):\n",
        "        self.mean = mean\n",
        "        self.std = std\n",
        "\n",
        "    def __call__(self, tensor):\n",
        "        return tensor + torch.randn(tensor.size()) * self.std + self.mean\n",
        "\n",
        "gaussian_transform = GaussianNoiseTransform(mean=0.0, std=0.1)\n",
        "\n",
        "###############################################################################################################################################\n",
        "0\n",
        "#fijamos la semilla del generador aleatorio para que siempre se divida igual\n",
        "generator = torch.Generator().manual_seed(42)\n",
        "\n",
        "from torch.utils.data import random_split\n",
        "print(len(tensor_data))\n",
        "# Calcula el tamaño para el conjunto combinado de entrenamiento y validación\n",
        "train_val_size = int(0.8 * len(all_windows))  # Supongamos que queremos el 80% para entrenamiento y validación combinados\n",
        "test_val_size = len(all_windows) - train_val_size\n",
        "\n",
        "# Divide el conjunto de datos en entrenamiento + validación y prueba\n",
        "trainset, testset = random_split(all_windows, [train_val_size, test_val_size], generator = generator)\n",
        "batch_size = 64\n",
        "trainset = CustomDataset(trainset, transform=gaussian_transform)\n",
        "trainloader = CustomDataLoader_4D(trainset, batch_size, shuffle=True)\n",
        "testloader = CustomDataLoader_4D(testset, batch_size, shuffle=False)\n",
        "#valloader = CustomDataLoader_4D(valset, batch_size, shuffle=False)\n",
        "\n",
        "\n",
        "# Verificar la forma del primer lote de datos\n",
        "for batch_data, batch_labels in trainloader:\n",
        "    print(\"Dimensiones del lote de datos:\", batch_data.shape)\n",
        "    print(\"Dimensiones del lote de etiquetas:\", batch_labels.shape)\n",
        "    break  # Detener después de imprimir el primer lote."
      ]
    },
    {
      "cell_type": "code",
      "source": [
        "import torch\n",
        "from collections import Counter\n",
        "\n",
        "# Función para contar las etiquetas en un conjunto de datos\n",
        "def contar_etiquetas(dataset):\n",
        "    etiquetas_contador = Counter()\n",
        "    for _, labels in dataset:\n",
        "        etiqueta = torch.argmax(labels).item()  # Obtener la etiqueta como un entero\n",
        "        etiquetas_contador[etiqueta] += 1\n",
        "    return etiquetas_contador\n",
        "\n",
        "# Contar las etiquetas en el conjunto de entrenamiento\n",
        "etiquetas_entrenamiento = contar_etiquetas(trainset)\n",
        "print(\"Conteo de etiquetas en el conjunto de entrenamiento:\")\n",
        "for etiqueta, conteo in etiquetas_entrenamiento.items():\n",
        "    print(f\"Etiqueta {etiqueta}: {conteo} veces\")\n",
        "\n",
        "# Contar las etiquetas en el conjunto de prueba\n",
        "etiquetas_prueba = contar_etiquetas(testset)\n",
        "print(\"\\nConteo de etiquetas en el conjunto de prueba:\")\n",
        "for etiqueta, conteo in etiquetas_prueba.items():\n",
        "    print(f\"Etiqueta {etiqueta}: {conteo} veces\")"
      ],
      "metadata": {
        "colab": {
          "base_uri": "https://localhost:8080/"
        },
        "id": "p4s5zya98VtN",
        "outputId": "d594cb88-5349-4dc0-890d-870c8f253717"
      },
      "execution_count": null,
      "outputs": [
        {
          "output_type": "stream",
          "name": "stdout",
          "text": [
            "Conteo de etiquetas en el conjunto de entrenamiento:\n",
            "Etiqueta 4: 969 veces\n",
            "Etiqueta 2: 2277 veces\n",
            "Etiqueta 1: 2184 veces\n",
            "Etiqueta 0: 1791 veces\n",
            "Etiqueta 6: 743 veces\n",
            "Etiqueta 3: 1547 veces\n",
            "Etiqueta 5: 145 veces\n",
            "\n",
            "Conteo de etiquetas en el conjunto de prueba:\n",
            "Etiqueta 2: 553 veces\n",
            "Etiqueta 3: 383 veces\n",
            "Etiqueta 1: 564 veces\n",
            "Etiqueta 6: 157 veces\n",
            "Etiqueta 0: 445 veces\n",
            "Etiqueta 5: 33 veces\n",
            "Etiqueta 4: 280 veces\n"
          ]
        }
      ]
    },
    {
      "cell_type": "code",
      "execution_count": null,
      "metadata": {
        "id": "ieTUXKNnj43F"
      },
      "outputs": [],
      "source": [
        "import torch\n",
        "import torch.nn as nn\n",
        "import torch.nn.functional as F\n",
        "\n",
        "class Net(nn.Module):\n",
        "    def __init__(self):\n",
        "        super(Net, self).__init__()\n",
        "\n",
        "\n",
        "        # Bloque #1\n",
        "        self.conv1 = nn.Conv2d(1, 16, 3, padding=1)\n",
        "        self.bn1 = nn.BatchNorm2d(16)\n",
        "        self.conv2 = nn.Conv2d(16, 32, 3, padding=1)\n",
        "        self.bn2 = nn.BatchNorm2d(32)\n",
        "\n",
        "        # Bloque #2\n",
        "        self.conv3 = nn.Conv2d(32, 64, 3, padding=1)\n",
        "        self.bn3 = nn.BatchNorm2d(64)\n",
        "        self.conv4 = nn.Conv2d(64, 128, 3, padding=1)\n",
        "        self.bn4 = nn.BatchNorm2d(128)\n",
        "\n",
        "        # Bloque #3\n",
        "        self.conv5 = nn.Conv2d(128, 256, 3, padding=1)\n",
        "        self.bn5 = nn.BatchNorm2d(256)\n",
        "        self.conv6 = nn.Conv2d(256, 512, 3, padding=1)\n",
        "        self.bn6 = nn.BatchNorm2d(512)\n",
        "\n",
        "        # Bloque #4\n",
        "        self.conv7 = nn.Conv2d(512, 512, 3, padding=1)\n",
        "        self.bn7 = nn.BatchNorm2d(512)\n",
        "        self.conv8 = nn.Conv2d(512, 512, 3, padding=1)\n",
        "        self.bn8 = nn.BatchNorm2d(512)\n",
        "\n",
        "        self.pool = nn.MaxPool2d(3, stride=(2, 1), padding=1)\n",
        "        self.avr = nn.AdaptiveAvgPool2d((1,1))\n",
        "        self.conv1x1 = nn.Conv2d(5,1,1)\n",
        "        self.bn1d1 = nn.BatchNorm1d(1024)\n",
        "        self.bn1d2 = nn.BatchNorm1d(512)\n",
        "\n",
        "        # Ajustar la dimensión de entrada de la capa fully connected\n",
        "        self.fc1 = nn.Linear(512*1*1, 1024)\n",
        "        self.dropout1 = nn.Dropout(0.5)\n",
        "        self.fc2 = nn.Linear(1024, 512)\n",
        "        self.dropout2 = nn.Dropout(0.5)\n",
        "        self.fc3 = nn.Linear(512, 7)\n",
        "\n",
        "    def forward(self, x):\n",
        "        x = F.relu(self.bn1(self.conv1(x)))\n",
        "        x = self.pool(F.relu(self.bn2(self.conv2(x))))\n",
        "\n",
        "        x = F.relu(self.bn3(self.conv3(x)))\n",
        "        x = self.pool(F.relu(self.bn4(self.conv4(x))))\n",
        "\n",
        "        x = F.relu(self.bn5(self.conv5(x)))\n",
        "        x = self.pool(F.relu(self.bn6(self.conv6(x))))\n",
        "\n",
        "        x = F.relu(self.bn7(self.conv7(x)))\n",
        "        x = self.pool(F.relu(self.bn8(self.conv8(x))))\n",
        "\n",
        "        x = self.avr(x)\n",
        "\n",
        "        x = x.flatten(start_dim=1)\n",
        "\n",
        "        x = F.relu(self.bn1d1(self.fc1(x)))\n",
        "        #x = self.dropout1(x)  # Aplicar dropout después de la primera capa fully connected\n",
        "\n",
        "        x = F.relu(self.bn1d2(self.fc2(x)))\n",
        "        #x = self.dropout2(x)  # Aplicar dropout después de la primera capa fully connected\n",
        "\n",
        "        x = self.fc3(x)\n",
        "        return x\n",
        "\n",
        "model = Net()"
      ]
    },
    {
      "cell_type": "code",
      "execution_count": null,
      "metadata": {
        "colab": {
          "base_uri": "https://localhost:8080/"
        },
        "id": "7FCqelxcc_UD",
        "outputId": "af8219b9-4de2-45f3-8e42-750bf1d5760f"
      },
      "outputs": [
        {
          "output_type": "stream",
          "name": "stdout",
          "text": [
            "cuda:0\n"
          ]
        }
      ],
      "source": [
        "#Antes de nada, si tenemos GPU la utilizamos\n",
        "device = torch.device(\"cuda:0\" if torch.cuda.is_available() else \"cpu\")\n",
        "\n",
        "print(device)"
      ]
    },
    {
      "cell_type": "code",
      "execution_count": null,
      "metadata": {
        "colab": {
          "base_uri": "https://localhost:8080/"
        },
        "id": "srcU268ocjEu",
        "outputId": "051c0859-8591-45fd-a0e4-130ac11cdbcb"
      },
      "outputs": [
        {
          "output_type": "execute_result",
          "data": {
            "text/plain": [
              "Net(\n",
              "  (conv1): Conv2d(1, 16, kernel_size=(3, 3), stride=(1, 1), padding=(1, 1))\n",
              "  (bn1): BatchNorm2d(16, eps=1e-05, momentum=0.1, affine=True, track_running_stats=True)\n",
              "  (conv2): Conv2d(16, 32, kernel_size=(3, 3), stride=(1, 1), padding=(1, 1))\n",
              "  (bn2): BatchNorm2d(32, eps=1e-05, momentum=0.1, affine=True, track_running_stats=True)\n",
              "  (conv3): Conv2d(32, 64, kernel_size=(3, 3), stride=(1, 1), padding=(1, 1))\n",
              "  (bn3): BatchNorm2d(64, eps=1e-05, momentum=0.1, affine=True, track_running_stats=True)\n",
              "  (conv4): Conv2d(64, 128, kernel_size=(3, 3), stride=(1, 1), padding=(1, 1))\n",
              "  (bn4): BatchNorm2d(128, eps=1e-05, momentum=0.1, affine=True, track_running_stats=True)\n",
              "  (conv5): Conv2d(128, 256, kernel_size=(3, 3), stride=(1, 1), padding=(1, 1))\n",
              "  (bn5): BatchNorm2d(256, eps=1e-05, momentum=0.1, affine=True, track_running_stats=True)\n",
              "  (conv6): Conv2d(256, 512, kernel_size=(3, 3), stride=(1, 1), padding=(1, 1))\n",
              "  (bn6): BatchNorm2d(512, eps=1e-05, momentum=0.1, affine=True, track_running_stats=True)\n",
              "  (conv7): Conv2d(512, 512, kernel_size=(3, 3), stride=(1, 1), padding=(1, 1))\n",
              "  (bn7): BatchNorm2d(512, eps=1e-05, momentum=0.1, affine=True, track_running_stats=True)\n",
              "  (conv8): Conv2d(512, 512, kernel_size=(3, 3), stride=(1, 1), padding=(1, 1))\n",
              "  (bn8): BatchNorm2d(512, eps=1e-05, momentum=0.1, affine=True, track_running_stats=True)\n",
              "  (pool): MaxPool2d(kernel_size=3, stride=(2, 1), padding=1, dilation=1, ceil_mode=False)\n",
              "  (avr): AdaptiveAvgPool2d(output_size=(1, 1))\n",
              "  (conv1x1): Conv2d(5, 1, kernel_size=(1, 1), stride=(1, 1))\n",
              "  (bn1d1): BatchNorm1d(1024, eps=1e-05, momentum=0.1, affine=True, track_running_stats=True)\n",
              "  (bn1d2): BatchNorm1d(512, eps=1e-05, momentum=0.1, affine=True, track_running_stats=True)\n",
              "  (fc1): Linear(in_features=512, out_features=1024, bias=True)\n",
              "  (dropout1): Dropout(p=0.5, inplace=False)\n",
              "  (fc2): Linear(in_features=1024, out_features=512, bias=True)\n",
              "  (dropout2): Dropout(p=0.5, inplace=False)\n",
              "  (fc3): Linear(in_features=512, out_features=7, bias=True)\n",
              ")"
            ]
          },
          "metadata": {},
          "execution_count": 24
        }
      ],
      "source": [
        "import random\n",
        "import numpy.random as npr\n",
        "\n",
        "#We fix seeds for reproducibility\n",
        "random.seed(42)\n",
        "npr.seed(42)\n",
        "torch.manual_seed(42)\n",
        "torch.backends.cudnn.benchmark = True\n",
        "\n",
        "net = Net() #Invocamos el constructor de la red (método init())\n",
        "net.to(device) #Pasamos la red al device que estemos usando (gpu)"
      ]
    },
    {
      "cell_type": "code",
      "execution_count": null,
      "metadata": {
        "colab": {
          "base_uri": "https://localhost:8080/"
        },
        "id": "fbSGW2WahUL3",
        "outputId": "a890eaa2-2090-45df-eb0d-912f444e355d"
      },
      "outputs": [
        {
          "output_type": "stream",
          "name": "stdout",
          "text": [
            "torch.Size([64, 1, 300, 5])\n"
          ]
        }
      ],
      "source": [
        "data=next(iter(trainloader))\n",
        "inputs = data[0].to(device).float()  # Tomamos la primera imagen y le agregamos una dimensión de lote\n",
        "labels = data[1].to(device)  # Tomamos la primera etiqueta y le agregamos una dimensión de lote\n",
        "\n",
        "x = inputs.to(device)\n",
        "print(x.shape)"
      ]
    },
    {
      "cell_type": "code",
      "execution_count": null,
      "metadata": {
        "id": "B8zM68E-ZXZM"
      },
      "outputs": [],
      "source": [
        "# Define layers\n",
        "\n",
        "# Bloque #1\n",
        "conv1 = nn.Conv2d(1, 16, 3, padding=1).to(device)\n",
        "bn1 = nn.BatchNorm2d(16).to(device)\n",
        "conv2 = nn.Conv2d(16, 32, 3, padding=1).to(device)\n",
        "bn2 = nn.BatchNorm2d(32).to(device)\n",
        "\n",
        "# Bloque #2\n",
        "conv3 = nn.Conv2d(32, 64, 3, padding=1).to(device)\n",
        "bn3 = nn.BatchNorm2d(64).to(device)\n",
        "conv4 = nn.Conv2d(64, 128, 3, padding=1).to(device)\n",
        "bn4 = nn.BatchNorm2d(128).to(device)\n",
        "\n",
        "# Bloque #3\n",
        "conv5 = nn.Conv2d(128, 256, 3, padding=1).to(device)\n",
        "bn5 = nn.BatchNorm2d(256).to(device)\n",
        "conv6 = nn.Conv2d(256, 512, 3, padding=1).to(device)\n",
        "bn6 = nn.BatchNorm2d(512).to(device)\n",
        "\n",
        "# Bloque #4\n",
        "conv7 = nn.Conv2d(512, 512, 3, padding=1).to(device)\n",
        "bn7 = nn.BatchNorm2d(512).to(device)\n",
        "conv8 = nn.Conv2d(512, 512, 3, padding=1).to(device)\n",
        "bn8 = nn.BatchNorm2d(512).to(device)\n",
        "\n",
        "pool = nn.MaxPool2d(3, stride=(2, 1), padding=1).to(device)\n",
        "\n",
        "avgpool = nn.AdaptiveAvgPool2d((1, 1))\n",
        "\n",
        "conv1x1 = nn.Conv2d(5, 1, 1).to(device)\n",
        "\n",
        "fc1 = nn.Linear(512 * 19 * 5, 1024)\n",
        "fc2 = nn.Linear(1024, 512)\n",
        "fc3 = nn.Linear(256, 7)\n",
        "\n",
        "\n"
      ]
    },
    {
      "cell_type": "code",
      "execution_count": null,
      "metadata": {
        "colab": {
          "base_uri": "https://localhost:8080/"
        },
        "id": "g8fY0Xi2eA9J",
        "outputId": "3cc849b9-962a-41e4-fd3f-75c502821976"
      },
      "outputs": [
        {
          "output_type": "stream",
          "name": "stdout",
          "text": [
            "torch.Size([64, 16, 300, 5])\n",
            "torch.Size([64, 32, 300, 5])\n",
            "torch.Size([64, 32, 150, 5])\n",
            "torch.Size([64, 64, 150, 5])\n",
            "torch.Size([64, 128, 150, 5])\n",
            "torch.Size([64, 128, 75, 5])\n",
            "torch.Size([64, 256, 75, 5])\n",
            "torch.Size([64, 512, 75, 5])\n",
            "torch.Size([64, 512, 38, 5])\n",
            "torch.Size([64, 512, 38, 5])\n",
            "torch.Size([64, 512, 38, 5])\n",
            "torch.Size([64, 512, 19, 5])\n",
            "torch.Size([64, 512, 1, 1])\n"
          ]
        }
      ],
      "source": [
        "\n",
        "x = F.relu(bn1(conv1(x)))\n",
        "print(x.shape)\n",
        "\n",
        "\n",
        "x = F.relu(bn2(conv2(x)))\n",
        "print(x.shape)\n",
        "\n",
        "x = pool(x)\n",
        "print(x.shape)\n",
        "\n",
        "x = F.relu(bn3(conv3(x)))\n",
        "print(x.shape)\n",
        "\n",
        "x = F.relu(bn4(conv4(x)))\n",
        "print(x.shape)\n",
        "\n",
        "x = pool(x)\n",
        "print(x.shape)\n",
        "\n",
        "x = F.relu(bn5(conv5(x)))\n",
        "print(x.shape)\n",
        "\n",
        "x = F.relu(bn6(conv6(x)))\n",
        "print(x.shape)\n",
        "\n",
        "x = pool(x)\n",
        "print(x.shape)\n",
        "\n",
        "x = F.relu(bn7(conv7(x)))\n",
        "print(x.shape)\n",
        "\n",
        "x = F.relu(bn8(conv8(x)))\n",
        "print(x.shape)\n",
        "\n",
        "x = pool(x)\n",
        "print(x.shape)\n",
        "\n",
        "x = avgpool(x)\n",
        "print(x.shape)\n",
        "\n",
        "\n",
        "\n",
        "# x = x.flatten(start_dim=1)\n",
        "# print(x.shape)\n"
      ]
    },
    {
      "cell_type": "code",
      "execution_count": null,
      "metadata": {
        "id": "VhNaw8-Bn7xB"
      },
      "outputs": [],
      "source": [
        "def train_loop(trainDataloader, model, criterion, optimizer):\n",
        "    size = len(trainDataloader.dataset)\n",
        "    epoch_loss = 0.0  # Inicializar la pérdida de la época\n",
        "    epoch_correct = 0.0\n",
        "\n",
        "    for inputs, labels in trainDataloader:  # Iterar sobre el dataloader\n",
        "      inputs = inputs.to(device).float()  # Mover las imágenes al dispositivo y convertirlas a flotantes\n",
        "      labels = labels.to(device)  # Mover las etiquetas al dispositivo\n",
        "\n",
        "      y_pred = model(inputs)  # Realizar predicciones\n",
        "      loss = criterion(y_pred, labels)  # Calcular la pérdida\n",
        "\n",
        "      optimizer.zero_grad()  # Reiniciar los gradientes\n",
        "      loss.backward()  # Realizar la retropropagación\n",
        "      optimizer.step()  # Actualizar los parámetros\n",
        "\n",
        "      epoch_loss += loss.item()  # Acumular la pérdida de la muestra actual en la pérdida de la época\n",
        "      epoch_correct += torch.sum( torch.argmax(y_pred, axis=1) == torch.argmax(labels, axis=1)).item()\n",
        "\n",
        "    epoch_loss /= len(trainloader)  # Calcular el promedio de la pérdida de la época\n",
        "    epoch_correct /= size\n",
        "    print(f\"Train Error:\\n Accuracy: {(100 * epoch_correct):>0.1f}%, Perdida train: {epoch_loss:>5f}\\n\")\n",
        "    return epoch_loss, epoch_correct\n",
        "\n",
        "def validation_loop(dataloader, model, criterion):\n",
        "    size = len(dataloader.dataset)\n",
        "    num_batches = len(dataloader)\n",
        "    total_correct = 0\n",
        "    total_loss = 0\n",
        "    all_preds = []\n",
        "    all_labels = []\n",
        "    with torch.no_grad():\n",
        "        for inputs, labels in dataloader:\n",
        "            inputs = inputs.to(device).float()\n",
        "            labels = labels.to(device)\n",
        "            y_pred = model(inputs)\n",
        "            loss = criterion(y_pred, labels)\n",
        "            indicemax = torch.argmax(y_pred, axis=1)\n",
        "            predicted_onehot = torch.zeros_like(y_pred)\n",
        "            # predicted_onehot[indicemax] = 1\n",
        "            predicted_labels = torch.argmax(y_pred, axis=1)  # Obtener la etiqueta predicha unidimensional\n",
        "            true_labels = torch.argmax(labels, axis=1) #etiqueta verdadera unidimensional\n",
        "            total_loss += loss.item()\n",
        "            all_preds.extend(torch.argmax(y_pred, axis=1).cpu().numpy())\n",
        "            all_labels.extend(torch.argmax(labels, axis=1).cpu().numpy())\n",
        "\n",
        "            # print(\"y_pred: \", y_pred)\n",
        "            # print(\"labels: \", labels)\n",
        "\n",
        "            # Calcular el número total de predicciones correctas\n",
        "            total_correct += torch.sum( torch.argmax(y_pred, axis=1) == torch.argmax(labels, axis=1)).item()\n",
        "    # Calcular la precisión y la pérdida promedio\n",
        "    total_correct /= size\n",
        "    total_loss /= num_batches\n",
        "    print(f\"Validation Error:\\n Accuracy: {(100 * total_correct):>0.1f}%, Perdida test: {total_loss:>5f}\\n\")\n",
        "    return total_loss, total_correct, all_labels, all_preds"
      ]
    },
    {
      "cell_type": "code",
      "execution_count": null,
      "metadata": {
        "colab": {
          "base_uri": "https://localhost:8080/"
        },
        "id": "opFlZxBpoBLa",
        "outputId": "cdc190e6-5dc2-464d-9e9c-526325ec126c"
      },
      "outputs": [
        {
          "output_type": "stream",
          "name": "stdout",
          "text": [
            "Epoca 1/70\n",
            "Train Error:\n",
            " Accuracy: 32.7%, Perdida train: 1.665543\n",
            "\n",
            "Validation Error:\n",
            " Accuracy: 37.4%, Perdida test: 1.554161\n",
            "\n",
            "Epoca 2/70\n",
            "Train Error:\n",
            " Accuracy: 43.5%, Perdida train: 1.405992\n",
            "\n",
            "Validation Error:\n",
            " Accuracy: 44.1%, Perdida test: 1.385189\n",
            "\n",
            "Epoca 3/70\n",
            "Train Error:\n",
            " Accuracy: 53.9%, Perdida train: 1.183149\n",
            "\n",
            "Validation Error:\n",
            " Accuracy: 47.4%, Perdida test: 1.306616\n",
            "\n",
            "Epoca 4/70\n",
            "Train Error:\n",
            " Accuracy: 65.2%, Perdida train: 0.934907\n",
            "\n",
            "Validation Error:\n",
            " Accuracy: 49.8%, Perdida test: 1.320628\n",
            "\n",
            "No mejora en la pérdida de validación por 1 épocas consecutivas.\n",
            "Epoca 5/70\n",
            "Train Error:\n",
            " Accuracy: 75.3%, Perdida train: 0.673745\n",
            "\n",
            "Validation Error:\n",
            " Accuracy: 51.3%, Perdida test: 1.338042\n",
            "\n",
            "No mejora en la pérdida de validación por 2 épocas consecutivas.\n",
            "Epoca 6/70\n",
            "Train Error:\n",
            " Accuracy: 85.5%, Perdida train: 0.429734\n",
            "\n",
            "Validation Error:\n",
            " Accuracy: 54.9%, Perdida test: 1.280709\n",
            "\n",
            "Epoca 7/70\n",
            "Train Error:\n",
            " Accuracy: 90.8%, Perdida train: 0.295628\n",
            "\n",
            "Validation Error:\n",
            " Accuracy: 55.6%, Perdida test: 1.351253\n",
            "\n",
            "No mejora en la pérdida de validación por 1 épocas consecutivas.\n",
            "Epoca 8/70\n",
            "Train Error:\n",
            " Accuracy: 94.4%, Perdida train: 0.187043\n",
            "\n",
            "Validation Error:\n",
            " Accuracy: 57.4%, Perdida test: 1.371560\n",
            "\n",
            "No mejora en la pérdida de validación por 2 épocas consecutivas.\n",
            "Epoca 9/70\n",
            "Train Error:\n",
            " Accuracy: 95.9%, Perdida train: 0.138544\n",
            "\n",
            "Validation Error:\n",
            " Accuracy: 58.1%, Perdida test: 1.403972\n",
            "\n",
            "No mejora en la pérdida de validación por 3 épocas consecutivas.\n",
            "Epoca 10/70\n",
            "Train Error:\n",
            " Accuracy: 96.2%, Perdida train: 0.128096\n",
            "\n",
            "Validation Error:\n",
            " Accuracy: 59.8%, Perdida test: 1.384633\n",
            "\n",
            "No mejora en la pérdida de validación por 4 épocas consecutivas.\n",
            "Epoca 11/70\n",
            "Train Error:\n",
            " Accuracy: 99.0%, Perdida train: 0.051719\n",
            "\n",
            "Validation Error:\n",
            " Accuracy: 63.9%, Perdida test: 1.202515\n",
            "\n",
            "Epoca 12/70\n",
            "Train Error:\n",
            " Accuracy: 99.8%, Perdida train: 0.025347\n",
            "\n",
            "Validation Error:\n",
            " Accuracy: 64.9%, Perdida test: 1.183296\n",
            "\n",
            "Epoca 13/70\n",
            "Train Error:\n",
            " Accuracy: 99.9%, Perdida train: 0.021683\n",
            "\n",
            "Validation Error:\n",
            " Accuracy: 65.5%, Perdida test: 1.172154\n",
            "\n",
            "Epoca 14/70\n",
            "Train Error:\n",
            " Accuracy: 99.9%, Perdida train: 0.018339\n",
            "\n",
            "Validation Error:\n",
            " Accuracy: 64.6%, Perdida test: 1.177535\n",
            "\n",
            "No mejora en la pérdida de validación por 1 épocas consecutivas.\n",
            "Epoca 15/70\n",
            "Train Error:\n",
            " Accuracy: 99.9%, Perdida train: 0.014831\n",
            "\n",
            "Validation Error:\n",
            " Accuracy: 65.5%, Perdida test: 1.174212\n",
            "\n",
            "No mejora en la pérdida de validación por 2 épocas consecutivas.\n",
            "Epoca 16/70\n",
            "Train Error:\n",
            " Accuracy: 99.9%, Perdida train: 0.013577\n",
            "\n",
            "Validation Error:\n",
            " Accuracy: 66.1%, Perdida test: 1.175222\n",
            "\n",
            "No mejora en la pérdida de validación por 3 épocas consecutivas.\n",
            "Epoca 17/70\n",
            "Train Error:\n",
            " Accuracy: 100.0%, Perdida train: 0.011880\n",
            "\n",
            "Validation Error:\n",
            " Accuracy: 65.2%, Perdida test: 1.181525\n",
            "\n",
            "No mejora en la pérdida de validación por 4 épocas consecutivas.\n",
            "Epoca 18/70\n",
            "Train Error:\n",
            " Accuracy: 100.0%, Perdida train: 0.011349\n",
            "\n",
            "Validation Error:\n",
            " Accuracy: 66.0%, Perdida test: 1.169577\n",
            "\n",
            "Epoca 19/70\n",
            "Train Error:\n",
            " Accuracy: 100.0%, Perdida train: 0.010790\n",
            "\n",
            "Validation Error:\n",
            " Accuracy: 66.4%, Perdida test: 1.170255\n",
            "\n",
            "No mejora en la pérdida de validación por 1 épocas consecutivas.\n",
            "Epoca 20/70\n",
            "Train Error:\n",
            " Accuracy: 100.0%, Perdida train: 0.008832\n",
            "\n",
            "Validation Error:\n",
            " Accuracy: 66.4%, Perdida test: 1.174682\n",
            "\n",
            "No mejora en la pérdida de validación por 2 épocas consecutivas.\n",
            "Epoca 21/70\n",
            "Train Error:\n",
            " Accuracy: 100.0%, Perdida train: 0.008410\n",
            "\n",
            "Validation Error:\n",
            " Accuracy: 66.5%, Perdida test: 1.173166\n",
            "\n",
            "No mejora en la pérdida de validación por 3 épocas consecutivas.\n",
            "Epoca 22/70\n",
            "Train Error:\n",
            " Accuracy: 100.0%, Perdida train: 0.007623\n",
            "\n",
            "Validation Error:\n",
            " Accuracy: 66.5%, Perdida test: 1.172371\n",
            "\n",
            "No mejora en la pérdida de validación por 4 épocas consecutivas.\n",
            "Epoca 23/70\n",
            "Train Error:\n",
            " Accuracy: 100.0%, Perdida train: 0.007856\n",
            "\n",
            "Validation Error:\n",
            " Accuracy: 66.7%, Perdida test: 1.171271\n",
            "\n",
            "No mejora en la pérdida de validación por 5 épocas consecutivas.\n",
            "Epoca 24/70\n",
            "Train Error:\n",
            " Accuracy: 100.0%, Perdida train: 0.008033\n",
            "\n",
            "Validation Error:\n",
            " Accuracy: 66.6%, Perdida test: 1.170942\n",
            "\n",
            "No mejora en la pérdida de validación por 6 épocas consecutivas.\n",
            "Epoca 25/70\n",
            "Train Error:\n",
            " Accuracy: 100.0%, Perdida train: 0.008428\n",
            "\n",
            "Validation Error:\n",
            " Accuracy: 66.7%, Perdida test: 1.171408\n",
            "\n",
            "No mejora en la pérdida de validación por 7 épocas consecutivas.\n",
            "Early stopping: Deteniendo el entrenamiento porque no hay mejora en la pérdida de validación.\n",
            "Entrenamiento finalizado.\n"
          ]
        }
      ],
      "source": [
        "import numpy as np\n",
        "import torch\n",
        "\n",
        "num_epochs = 70\n",
        "criterion = torch.nn.CrossEntropyLoss()\n",
        "model = Net().to(device)\n",
        "optimizer = torch.optim.Adam(model.parameters(), lr=0.0001, weight_decay=0.001)\n",
        "\n",
        "# Añadir un StepLR scheduler\n",
        "scheduler = torch.optim.lr_scheduler.StepLR(optimizer, step_size=10, gamma=0.1)\n",
        "\n",
        "# Parámetros para Early Stopping\n",
        "patience = 7  # Número de épocas de paciencia antes de parar si no hay mejora\n",
        "best_loss = float('inf')  # Mejor pérdida inicializada a infinito\n",
        "patience_counter = 0  # Contador de paciencia\n",
        "\n",
        "loss_train, accu_train = np.zeros(num_epochs), np.zeros(num_epochs)\n",
        "loss_validation, accu_validation = np.zeros(num_epochs), np.zeros(num_epochs)\n",
        "\n",
        "for epoch in range(num_epochs):\n",
        "    print(f\"Epoca {epoch + 1}/{num_epochs}\")\n",
        "\n",
        "    # Entrenamiento\n",
        "    loss_train[epoch], accu_train[epoch] = train_loop(trainloader, model, criterion, optimizer)\n",
        "\n",
        "    # Validación\n",
        "    loss_validation[epoch], accu_validation[epoch], all_labels, all_preds = validation_loop(testloader, model, criterion)\n",
        "\n",
        "    # Actualizar el learning rate según el scheduler\n",
        "    scheduler.step()\n",
        "\n",
        "    # Early Stopping: verificar si la pérdida de validación ha mejorado\n",
        "    if loss_validation[epoch] < best_loss:\n",
        "        best_loss = loss_validation[epoch]\n",
        "        patience_counter = 0  # Resetear el contador de paciencia porque hubo una mejora\n",
        "    else:\n",
        "        patience_counter += 1\n",
        "        print(f\"No mejora en la pérdida de validación por {patience_counter} épocas consecutivas.\")\n",
        "\n",
        "        # Si el contador de paciencia llega al límite, detener el entrenamiento\n",
        "        if patience_counter >= patience:\n",
        "            print(\"Early stopping: Deteniendo el entrenamiento porque no hay mejora en la pérdida de validación.\")\n",
        "            break\n",
        "\n",
        "print(\"Entrenamiento finalizado.\")\n"
      ]
    },
    {
      "cell_type": "code",
      "execution_count": null,
      "metadata": {
        "colab": {
          "base_uri": "https://localhost:8080/",
          "height": 718
        },
        "id": "4gPLrHWdNvpU",
        "outputId": "2e5a59cc-818e-4a39-8455-59c4ad02eb82"
      },
      "outputs": [
        {
          "output_type": "display_data",
          "data": {
            "text/plain": [
              "<Figure size 1000x800 with 2 Axes>"
            ],
            "image/png": "[encoded data removed]"
          },
          "metadata": {}
        }
      ],
      "source": [
        "# Generar matriz de confusión solo para la última época\n",
        "import torch\n",
        "import torch.nn as nn\n",
        "import torch.optim as optim\n",
        "import numpy as np\n",
        "import matplotlib.pyplot as plt\n",
        "import seaborn as sns\n",
        "from sklearn.metrics import confusion_matrix\n",
        "\n",
        "# Función para normalizar la matriz de confusión\n",
        "def normalize_confusion_matrix(cm):\n",
        "    return cm.astype('float') / cm.sum(axis=1)[:, np.newaxis]\n",
        "\n",
        "cm = confusion_matrix(all_labels, all_preds)\n",
        "cm_normalized = normalize_confusion_matrix(cm)\n",
        "classes = [str(i) for i in range(7)]  # Asumiendo 7 clases\n",
        "\n",
        "# Plot de la matriz de confusión normalizada\n",
        "plt.figure(figsize=(10, 8))\n",
        "sns.heatmap(cm_normalized, annot=True, fmt='.2f', cmap='Blues', xticklabels=classes, yticklabels=classes)\n",
        "plt.xlabel('Predicted')\n",
        "plt.ylabel('True')\n",
        "plt.title('Normalized Confusion Matrix')\n",
        "plt.show()\n"
      ]
    },
    {
      "cell_type": "code",
      "execution_count": null,
      "metadata": {
        "colab": {
          "base_uri": "https://localhost:8080/",
          "height": 474
        },
        "id": "sNQhShUtpvOJ",
        "outputId": "807d8672-b304-44c6-f9bc-9c55e419fe86"
      },
      "outputs": [
        {
          "output_type": "display_data",
          "data": {
            "text/plain": [
              "<Figure size 640x480 with 1 Axes>"
            ],
            "image/png": "[encoded data removed]"
          },
          "metadata": {}
        }
      ],
      "source": [
        "import matplotlib.pyplot as plt\n",
        "import numpy as np\n",
        "\n",
        "# Determinar el número de épocas alcanzadas (usando el índice de la última época alcanzada)\n",
        "num_epochs_reached = epoch + 1  # +1 porque 'epoch' es de 0 a num_epochs-1\n",
        "\n",
        "# Recortar los arreglos hasta el número de épocas alcanzadas\n",
        "loss_train_cropped = loss_train[:num_epochs_reached]\n",
        "loss_validation_cropped = loss_validation[:num_epochs_reached]\n",
        "lista = list(range(1, num_epochs_reached + 1))\n",
        "\n",
        "# Representación de los resultados\n",
        "plt.plot(lista, loss_train_cropped, label='Training Loss')\n",
        "plt.plot(lista, loss_validation_cropped, label='Validation Loss')\n",
        "plt.legend()\n",
        "\n",
        "# Añadir etiquetas a los ejes\n",
        "plt.xlabel('Épocas')\n",
        "plt.ylabel('Pérdida')\n",
        "plt.title('Curva de Pérdida de Entrenamiento y Validación')\n",
        "\n",
        "plt.show()\n"
      ]
    },
    {
      "cell_type": "code",
      "execution_count": null,
      "metadata": {
        "colab": {
          "base_uri": "https://localhost:8080/",
          "height": 474
        },
        "id": "xGfi7QB0pvzU",
        "outputId": "b68c6929-b5d7-49b9-e61b-1ddf3b8ab151"
      },
      "outputs": [
        {
          "output_type": "display_data",
          "data": {
            "text/plain": [
              "<Figure size 640x480 with 1 Axes>"
            ],
            "image/png": "[encoded data removed]"
          },
          "metadata": {}
        }
      ],
      "source": [
        "import matplotlib.pyplot as plt\n",
        "\n",
        "# Determinar el número de épocas alcanzadas (usando el índice de la última época alcanzada)\n",
        "num_epochs_reached = epoch + 1  # +1 porque 'epoch' es de 0 a num_epochs-1\n",
        "\n",
        "# Recortar los arreglos hasta el número de épocas alcanzadas\n",
        "accu_train_cropped = accu_train[:num_epochs_reached]\n",
        "accu_validation_cropped = accu_validation[:num_epochs_reached]\n",
        "lista = list(range(1, num_epochs_reached + 1))\n",
        "\n",
        "# Representación de los resultados\n",
        "plt.plot(lista, accu_train_cropped, label='Training Accuracy')\n",
        "plt.plot(lista, accu_validation_cropped, label='Validation Accuracy')\n",
        "plt.legend()\n",
        "\n",
        "# Añadir etiquetas a los ejes\n",
        "plt.xlabel('Épocas')\n",
        "plt.ylabel('Precisión (Accuracy)')\n",
        "plt.title('Curva de Precisión de Entrenamiento y Validación')\n",
        "\n",
        "plt.show()\n"
      ]
    },
    {
      "cell_type": "code",
      "execution_count": null,
      "metadata": {
        "colab": {
          "base_uri": "https://localhost:8080/"
        },
        "id": "exs0INMzk44w",
        "outputId": "dd30c4fb-d63d-4f29-cd28-1e1ae5522686"
      },
      "outputs": [
        {
          "output_type": "stream",
          "name": "stdout",
          "text": [
            "              precision    recall  f1-score   support\n",
            "\n",
            "     class 1       0.63      0.66      0.65       445\n",
            "     class 2       0.68      0.67      0.67       564\n",
            "     class 3       0.68      0.72      0.70       553\n",
            "     class 4       0.65      0.62      0.64       383\n",
            "     class 5       0.70      0.65      0.67       280\n",
            "     class 6       0.57      0.39      0.46        33\n",
            "     class 7       0.65      0.70      0.68       157\n",
            "\n",
            "    accuracy                           0.67      2415\n",
            "   macro avg       0.65      0.63      0.64      2415\n",
            "weighted avg       0.67      0.67      0.67      2415\n",
            "\n"
          ]
        }
      ],
      "source": [
        "from sklearn.metrics import classification_report\n",
        "\n",
        "target_names = ['class 1', 'class 2', 'class 3', 'class 4', 'class 5', 'class 6', 'class 7']\n",
        "print(classification_report(all_labels, all_preds, target_names=target_names))"
      ]
    },
    {
      "cell_type": "code",
      "execution_count": null,
      "metadata": {
        "colab": {
          "base_uri": "https://localhost:8080/"
        },
        "id": "OwDcUCJitVd_",
        "outputId": "e5525c41-0164-4b88-95ee-9c31d086f635"
      },
      "outputs": [
        {
          "output_type": "stream",
          "name": "stdout",
          "text": [
            "Balanced Accuracy: 0.63\n"
          ]
        }
      ],
      "source": [
        "from sklearn.metrics import balanced_accuracy_score\n",
        "\n",
        "balanced_accuracy = balanced_accuracy_score(all_labels, all_preds)\n",
        "print(f'Balanced Accuracy: {balanced_accuracy:.2f}')"
      ]
    }
  ],
  "metadata": {
    "accelerator": "TPU",
    "colab": {
      "gpuType": "V28",
      "provenance": [],
      "authorship_tag": "ABX9TyNRCZQD7B9AlZZV4iwpGIjI",
      "include_colab_link": true
    },
    "kernelspec": {
      "display_name": "Python 3",
      "name": "python3"
    },
    "language_info": {
      "name": "python"
    }
  },
  "nbformat": 4,
  "nbformat_minor": 0
}