{
  "nbformat": 4,
  "nbformat_minor": 0,
  "metadata": {
    "colab": {
      "provenance": [],
      "machine_shape": "hm",
      "gpuType": "L4",
      "authorship_tag": "ABX9TyNt0SHTRrg0DmwLmMJup077",
      "include_colab_link": true
    },
    "kernelspec": {
      "name": "python3",
      "display_name": "Python 3"
    },
    "language_info": {
      "name": "python"
    },
    "accelerator": "GPU"
  },
  "cells": [
    {
      "cell_type": "markdown",
      "metadata": {
        "id": "view-in-github",
        "colab_type": "text"
      },
      "source": [
        "<a href=\"https://colab.research.google.com/github/anastasia-evil/MyApplication/blob/master/diezmado.ipynb\" target=\"_parent\"><img src=\"https://colab.research.google.com/assets/colab-badge.svg\" alt=\"Open In Colab\"/></a>"
      ]
    },
    {
      "cell_type": "code",
      "execution_count": null,
      "metadata": {
        "colab": {
          "base_uri": "https://localhost:8080/"
        },
        "id": "4JsPCO_JS08J",
        "outputId": "c31bf4f4-4b73-4402-ddcf-1fa673976f26"
      },
      "outputs": [
        {
          "output_type": "stream",
          "name": "stdout",
          "text": [
            "Requirement already satisfied: pandas in /usr/local/lib/python3.10/dist-packages (2.0.3)\n",
            "Requirement already satisfied: python-dateutil>=2.8.2 in /usr/local/lib/python3.10/dist-packages (from pandas) (2.8.2)\n",
            "Requirement already satisfied: pytz>=2020.1 in /usr/local/lib/python3.10/dist-packages (from pandas) (2023.4)\n",
            "Requirement already satisfied: tzdata>=2022.1 in /usr/local/lib/python3.10/dist-packages (from pandas) (2024.1)\n",
            "Requirement already satisfied: numpy>=1.21.0 in /usr/local/lib/python3.10/dist-packages (from pandas) (1.25.2)\n",
            "Requirement already satisfied: six>=1.5 in /usr/local/lib/python3.10/dist-packages (from python-dateutil>=2.8.2->pandas) (1.16.0)\n",
            "Mounted at /content/drive\n"
          ]
        }
      ],
      "source": [
        "# Primero, instala las bibliotecas necesarias si aún no lo has hecho.\n",
        "!pip install pandas\n",
        "\n",
        "import pandas as pd\n",
        "import os\n",
        "from google.colab import drive\n",
        "\n",
        "# Montar Google Drive para acceder a los archivos\n",
        "drive.mount('/content/drive')\n",
        "\n",
        "# Ruta a la carpeta \"TFG\" en tu Google Drive\n",
        "folder_path = '/content/drive/My Drive/TFGDatos/'\n",
        "output_folder_path = '/content/drive/My Drive/TFGDatos_Diezmado/'"
      ]
    },
    {
      "cell_type": "code",
      "source": [
        "def reduce_resolution(df, time_col, label_col, target_freq=100):\n",
        "    # Convertir la columna de tiempo a timedelta\n",
        "    df[time_col] = pd.to_timedelta(df[time_col])\n",
        "\n",
        "    # Obtener el intervalo de muestreo para la nueva frecuencia\n",
        "    interval = pd.to_timedelta(1 / target_freq, unit='s')\n",
        "\n",
        "    # Crear un nuevo DataFrame para almacenar los datos reducidos\n",
        "    reduced_df = pd.DataFrame(columns=df.columns)\n",
        "\n",
        "    current_time = df[time_col].iloc[0]\n",
        "    end_time = df[time_col].iloc[-1]\n",
        "\n",
        "    while current_time <= end_time:\n",
        "        # Filtrar las filas en el intervalo actual\n",
        "        mask = (df[time_col] >= current_time) & (df[time_col] < current_time + interval)\n",
        "        interval_df = df[mask]\n",
        "\n",
        "        if not interval_df.empty:\n",
        "            # Mantener la fila con la etiqueta no cero si existe, de lo contrario la primera fila\n",
        "            if interval_df[label_col].any():\n",
        "                selected_row = interval_df[interval_df[label_col] != 0].iloc[0]\n",
        "            else:\n",
        "                selected_row = interval_df.iloc[0]\n",
        "\n",
        "            # Usar concat en lugar de append\n",
        "            reduced_df = pd.concat([reduced_df, selected_row.to_frame().T])\n",
        "\n",
        "        current_time += interval\n",
        "\n",
        "    return reduced_df\n"
      ],
      "metadata": {
        "id": "GnPh8aeAyzBl"
      },
      "execution_count": null,
      "outputs": []
    },
    {
      "cell_type": "code",
      "source": [
        "# Obtener la lista de archivos en la carpeta de origen\n",
        "files = [f for f in os.listdir(folder_path) if f.endswith('.xlsx')]\n",
        "\n",
        "for file in files:\n",
        "    # Cargar el archivo Excel\n",
        "    file_path = os.path.join(folder_path, file)\n",
        "    df = pd.read_excel(file_path)\n",
        "\n",
        "    # Reducir la resolución del DataFrame\n",
        "    reduced_df = reduce_resolution(df, 'Time', 'Label', target_freq=100)\n",
        "\n",
        "    # Guardar el nuevo DataFrame en la carpeta de destino\n",
        "    output_file_path = os.path.join(output_folder_path, file)\n",
        "    reduced_df.to_excel(output_file_path, index=False)"
      ],
      "metadata": {
        "id": "Yszf9UdezI28"
      },
      "execution_count": null,
      "outputs": []
    },
    {
      "cell_type": "code",
      "source": [
        "import pandas as pd\n",
        "import os\n",
        "import glob\n",
        "\n",
        "# Función para verificar si la columna 'Label' tiene algún valor distinto de 0\n",
        "def check_labels(file_path):\n",
        "    df = pd.read_excel(file_path)\n",
        "    if 'Label' in df.columns:\n",
        "        if (df['Label'] != 0).any():\n",
        "            return False\n",
        "    return True\n",
        "\n",
        "# Ruta a la carpeta que contiene los archivos Excel\n",
        "path = '/content/drive/My Drive/TFGDatos_Diezmado'\n",
        "xlsx_files = glob.glob(os.path.join(path, '*.xlsx'))\n",
        "\n",
        "# Lista para almacenar los nombres de los archivos que no tienen valores distintos de 0 en 'Label'\n",
        "files_without_labels = []\n",
        "\n",
        "for file in xlsx_files:\n",
        "    if check_labels(file):\n",
        "        files_without_labels.append(file)\n",
        "\n",
        "# Mostrar los archivos que no tienen valores distintos de 0 en la columna 'Label'\n",
        "if files_without_labels:\n",
        "    print(\"Archivos que no tienen valores distintos de 0 en la columna 'Label':\")\n",
        "    for file in files_without_labels:\n",
        "        print(file)\n",
        "else:\n",
        "    print(\"Todos los archivos tienen al menos un valor distinto de 0 en la columna 'Label'.\")\n"
      ],
      "metadata": {
        "colab": {
          "base_uri": "https://localhost:8080/"
        },
        "id": "FizXKW-fy63U",
        "outputId": "a760578a-01ce-4c1b-d1bd-0b77b5ff864d"
      },
      "execution_count": null,
      "outputs": [
        {
          "output_type": "stream",
          "name": "stdout",
          "text": [
            "Archivos que no tienen valores distintos de 0 en la columna 'Label':\n",
            "/content/drive/My Drive/TFGDatos_Diezmado/[p197] low-2 BITalino.xlsx\n",
            "/content/drive/My Drive/TFGDatos_Diezmado/[p206] low-2 BITalino.xlsx\n",
            "/content/drive/My Drive/TFGDatos_Diezmado/[p212] control-1 BITalino.xlsx\n"
          ]
        }
      ]
    }
  ]
}