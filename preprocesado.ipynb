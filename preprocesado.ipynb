{
  "nbformat": 4,
  "nbformat_minor": 0,
  "metadata": {
    "colab": {
      "provenance": [],
      "authorship_tag": "ABX9TyO06cHgm9cMj/LbgfJmMiAv",
      "include_colab_link": true
    },
    "kernelspec": {
      "name": "python3",
      "display_name": "Python 3"
    },
    "language_info": {
      "name": "python"
    }
  },
  "cells": [
    {
      "cell_type": "markdown",
      "metadata": {
        "id": "view-in-github",
        "colab_type": "text"
      },
      "source": [
        "<a href=\"https://colab.research.google.com/github/anastasia-evil/TFGCodigo/blob/master/preprocesado.ipynb\" target=\"_parent\"><img src=\"https://colab.research.google.com/assets/colab-badge.svg\" alt=\"Open In Colab\"/></a>"
      ]
    },
    {
      "cell_type": "code",
      "execution_count": null,
      "metadata": {
        "colab": {
          "base_uri": "https://localhost:8080/"
        },
        "id": "aQRoGFju3UsE",
        "outputId": "ddc219ee-6b51-4dec-8b8e-d96699ab22df"
      },
      "outputs": [
        {
          "output_type": "stream",
          "name": "stdout",
          "text": [
            "Requirement already satisfied: pandas in /usr/local/lib/python3.10/dist-packages (2.0.3)\n",
            "Requirement already satisfied: python-dateutil>=2.8.2 in /usr/local/lib/python3.10/dist-packages (from pandas) (2.8.2)\n",
            "Requirement already satisfied: pytz>=2020.1 in /usr/local/lib/python3.10/dist-packages (from pandas) (2023.4)\n",
            "Requirement already satisfied: tzdata>=2022.1 in /usr/local/lib/python3.10/dist-packages (from pandas) (2024.1)\n",
            "Requirement already satisfied: numpy>=1.21.0 in /usr/local/lib/python3.10/dist-packages (from pandas) (1.25.2)\n",
            "Requirement already satisfied: six>=1.5 in /usr/local/lib/python3.10/dist-packages (from python-dateutil>=2.8.2->pandas) (1.16.0)\n",
            "Mounted at /content/drive\n"
          ]
        }
      ],
      "source": [
        "# Primero, instala las bibliotecas necesarias si aún no lo has hecho.\n",
        "!pip install pandas\n",
        "\n",
        "import pandas as pd\n",
        "import os\n",
        "from google.colab import drive\n",
        "\n",
        "# Montar Google Drive para acceder a los archivos\n",
        "drive.mount('/content/drive')\n",
        "\n",
        "# Ruta a la carpeta \"TFG\" en tu Google Drive\n",
        "folder_path = '/content/drive/My Drive/TFGDatosAlvaro/'\n",
        "\n",
        "# Obtener una lista de todos los archivos .xlsx en la carpeta\n",
        "file_paths = [os.path.join(folder_path, f) for f in os.listdir(folder_path) if f.endswith('.xlsx')]\n"
      ]
    },
    {
      "cell_type": "code",
      "source": [
        "# Inicializar un diccionario para almacenar el conteo de filas\n",
        "file_row_counts = {}\n",
        "\n",
        "# Leer cada archivo y contar las filas en la hoja \"triggers\"\n",
        "for file_path in file_paths:\n",
        "    try:\n",
        "        # Leer la hoja \"triggers\"\n",
        "        df = pd.read_excel(file_path, sheet_name='TriggersData')\n",
        "        # Contar las filas\n",
        "        row_count = df.shape[0]\n",
        "        # Almacenar el resultado en el diccionario\n",
        "        file_row_counts[file_path] = row_count\n",
        "    except Exception as e:\n",
        "        print(f\"Error al procesar el archivo {file_path}: {e}\")\n"
      ],
      "metadata": {
        "id": "gKnmYUN34U_J"
      },
      "execution_count": null,
      "outputs": []
    },
    {
      "cell_type": "code",
      "source": [
        "for file_path, row_count in file_row_counts.items():\n",
        "    if row_count != 7:\n",
        "        print( {file_path} )"
      ],
      "metadata": {
        "colab": {
          "base_uri": "https://localhost:8080/"
        },
        "id": "iK2i5CRZ6pRj",
        "outputId": "4980aeb2-b745-4fa0-b166-f57faa7eff44"
      },
      "execution_count": null,
      "outputs": [
        {
          "output_type": "stream",
          "name": "stdout",
          "text": [
            "{'/content/drive/My Drive/TFGDatosAlvaro/[p056] control-2 BITalino.xlsx'}\n",
            "{'/content/drive/My Drive/TFGDatosAlvaro/[p065] control-1 BITalino.xlsx'}\n",
            "{'/content/drive/My Drive/TFGDatosAlvaro/[p072] low-1 BITalino.xlsx'}\n",
            "{'/content/drive/My Drive/TFGDatosAlvaro/[p090] high-2 BITalino.xlsx'}\n",
            "{'/content/drive/My Drive/TFGDatosAlvaro/[p109] control-1 BITalino.xlsx'}\n",
            "{'/content/drive/My Drive/TFGDatosAlvaro/[p109] high-1 BITalino.xlsx'}\n",
            "{'/content/drive/My Drive/TFGDatosAlvaro/[p130] high-1 BITalino.xlsx'}\n",
            "{'/content/drive/My Drive/TFGDatosAlvaro/[p130] low-1 BITalino.xlsx'}\n",
            "{'/content/drive/My Drive/TFGDatosAlvaro/[p138] low-1 BITalino.xlsx'}\n",
            "{'/content/drive/My Drive/TFGDatosAlvaro/[p165] low-2 BITalino.xlsx'}\n",
            "{'/content/drive/My Drive/TFGDatosAlvaro/[p172] high-1 BITalino.xlsx'}\n",
            "{'/content/drive/My Drive/TFGDatosAlvaro/[p172] low-1 BITalino.xlsx'}\n",
            "{'/content/drive/My Drive/TFGDatosAlvaro/[p173] low-1 BITalino.xlsx'}\n",
            "{'/content/drive/My Drive/TFGDatosAlvaro/[p175] high-2 BITalino.xlsx'}\n",
            "{'/content/drive/My Drive/TFGDatosAlvaro/[p178] low-1 BITalino.xlsx'}\n"
          ]
        }
      ]
    },
    {
      "cell_type": "code",
      "source": [
        "# Lista para almacenar los archivos con tiempos incorrectos\n",
        "incorrect_time_files = []\n",
        "\n",
        "# Verificar los archivos que tienen 7 filas en la hoja 'triggers'\n",
        "for file_path, row_count in file_row_counts.items():\n",
        "    if row_count == 7:\n",
        "        try:\n",
        "            # Leer las celdas A2 de 'triggers' y B2 de 'principal'\n",
        "            time_triggers = pd.read_excel(file_path, sheet_name='TriggersData', usecols=\"A\", skiprows=1, nrows=1).iloc[0, 0]\n",
        "            time_principal = pd.read_excel(file_path, sheet_name='Primary Data', usecols=\"B\", skiprows=1, nrows=1).iloc[0, 0]\n",
        "\n",
        "            # Convertir a formato datetime\n",
        "            time_triggers = pd.to_datetime(time_triggers, format='%H:%M:%S.%f').time()\n",
        "            time_principal = pd.to_datetime(time_principal, format='%H:%M:%S.%f').time()\n",
        "\n",
        "            # Comparar los tiempos\n",
        "            if time_principal > time_triggers:\n",
        "                incorrect_time_files.append(file_path)\n",
        "        except Exception as e:\n",
        "            print(f\"Error al procesar el archivo {file_path}: {e}\")\n"
      ],
      "metadata": {
        "id": "Vvd8MYur9erQ"
      },
      "execution_count": null,
      "outputs": []
    },
    {
      "cell_type": "code",
      "source": [
        "for file_path in incorrect_time_files:\n",
        "    print({file_path})"
      ],
      "metadata": {
        "colab": {
          "base_uri": "https://localhost:8080/"
        },
        "id": "aK1NDsLAAiYj",
        "outputId": "fc09d6ba-a4c1-4e7c-8c1b-f2ce6567b6c5"
      },
      "execution_count": null,
      "outputs": [
        {
          "output_type": "stream",
          "name": "stdout",
          "text": [
            "{'/content/drive/My Drive/TFGDatosAlvaro/[p065] high-1 BITalino.xlsx'}\n",
            "{'/content/drive/My Drive/TFGDatosAlvaro/[p065] control-2 BITalino.xlsx'}\n",
            "{'/content/drive/My Drive/TFGDatosAlvaro/[p065] high-2 BITalino.xlsx'}\n",
            "{'/content/drive/My Drive/TFGDatosAlvaro/[p065] low-1 BITalino.xlsx'}\n",
            "{'/content/drive/My Drive/TFGDatosAlvaro/[p065] low-2 BITalino.xlsx'}\n",
            "{'/content/drive/My Drive/TFGDatosAlvaro/[p122] control-1 BITalino.xlsx'}\n",
            "{'/content/drive/My Drive/TFGDatosAlvaro/[p332] control-2 BITalino.xlsx'}\n",
            "{'/content/drive/My Drive/TFGDatosAlvaro/[p332] low-2 BITalino.xlsx'}\n",
            "{'/content/drive/My Drive/TFGDatosAlvaro/[p332] high-2 BITalino.xlsx'}\n",
            "{'/content/drive/My Drive/TFGDatosAlvaro/[p332] high-1 BITalino.xlsx'}\n",
            "{'/content/drive/My Drive/TFGDatosAlvaro/[p332] low-1 BITalino.xlsx'}\n"
          ]
        }
      ]
    }
  ]
}